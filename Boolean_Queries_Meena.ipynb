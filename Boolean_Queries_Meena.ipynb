{
  "nbformat": 4,
  "nbformat_minor": 0,
  "metadata": {
    "colab": {
      "provenance": [],
      "gpuType": "T4"
    },
    "kernelspec": {
      "name": "python3",
      "display_name": "Python 3"
    },
    "language_info": {
      "name": "python"
    },
    "accelerator": "GPU"
  },
  "cells": [
    {
      "cell_type": "markdown",
      "source": [
        "**Boolean Information Retrieval Model**"
      ],
      "metadata": {
        "id": "4luqChNUQxhh"
      }
    },
    {
      "cell_type": "code",
      "source": [
        "import os \n",
        "import pandas as pd\n",
        "import string\n",
        "import nltk\n",
        "import nltk.corpus\n",
        "from nltk.corpus import stopwords\n",
        "from nltk.tokenize import word_tokenize"
      ],
      "metadata": {
        "id": "99vy2dbckGo7"
      },
      "execution_count": 1,
      "outputs": []
    },
    {
      "cell_type": "code",
      "source": [
        "nltk.download('stopwords')"
      ],
      "metadata": {
        "colab": {
          "base_uri": "https://localhost:8080/"
        },
        "id": "fCZIszO2k-Ar",
        "outputId": "756a7982-100d-44c1-db6d-49486e90cc87"
      },
      "execution_count": 2,
      "outputs": [
        {
          "output_type": "stream",
          "name": "stderr",
          "text": [
            "[nltk_data] Downloading package stopwords to /root/nltk_data...\n",
            "[nltk_data]   Unzipping corpora/stopwords.zip.\n"
          ]
        },
        {
          "output_type": "execute_result",
          "data": {
            "text/plain": [
              "True"
            ]
          },
          "metadata": {},
          "execution_count": 2
        }
      ]
    },
    {
      "cell_type": "code",
      "source": [
        "nltk.download('punkt')"
      ],
      "metadata": {
        "colab": {
          "base_uri": "https://localhost:8080/"
        },
        "id": "mQRlNZYE6nK0",
        "outputId": "07c8b48c-4177-4fd7-bca7-eda608351941"
      },
      "execution_count": 3,
      "outputs": [
        {
          "output_type": "stream",
          "name": "stderr",
          "text": [
            "[nltk_data] Downloading package punkt to /root/nltk_data...\n",
            "[nltk_data]   Unzipping tokenizers/punkt.zip.\n"
          ]
        },
        {
          "output_type": "execute_result",
          "data": {
            "text/plain": [
              "True"
            ]
          },
          "metadata": {},
          "execution_count": 3
        }
      ]
    },
    {
      "cell_type": "code",
      "source": [
        "stop_words = stopwords.words('english')"
      ],
      "metadata": {
        "id": "WqHmQgYGlFk_"
      },
      "execution_count": 4,
      "outputs": []
    },
    {
      "cell_type": "code",
      "source": [
        "# Defining a function for reading and cleaning the text documents\n",
        "def Document(*doc_path):\n",
        "  doc_files = []\n",
        "  for files in doc_path:\n",
        "    data_files = open(files)\n",
        "    data_read = data_files.read()\n",
        "\n",
        "    #Removing the different characters present in the text\n",
        "    spcl_characters = '''!@#$%^&*-()[]{}.;:\\'\"/<>?''' \n",
        "    for element in data_read:\n",
        "        if element in spcl_characters:\n",
        "           data_read = data_read.replace(element, '') \n",
        "    \n",
        "    #Splitting the strings into list in the given text files\n",
        "    text_tokens = [token for token in data_read.split()]\n",
        "\n",
        "    # Converting the words in to lower case and removing the stopwords\n",
        "    clean_text = []\n",
        "    for text in text_tokens:\n",
        "      words = text.lower()\n",
        "      if words not in stop_words:\n",
        "        clean_text.append(words)\n",
        "    \n",
        "    doc_files.append(clean_text)\n",
        "  return doc_files "
      ],
      "metadata": {
        "id": "XP39XY96lQev"
      },
      "execution_count": 5,
      "outputs": []
    },
    {
      "cell_type": "code",
      "source": [
        "docs = Document(r'/content/Father_Brown/Blue Cross.txt', r'/content/Father_Brown/Queer Feet.txt', r'/content/Father_Brown/Secret Garden.txt',\n",
        "                r'/content/Father_Brown/Broken Sword.txt',r'/content/Father_Brown/Eye of Apollo.txt', r'/content/Father_Brown/Flying Stars.txt',\n",
        "                r'/content/Father_Brown/Hammer of God.txt',r'/content/Father_Brown/Invisible Man.txt',\n",
        "                r'/content/Father_Brown/Israel Crow.txt',r'/content/Father_Brown/Prince Saradine Sins.txt', r'/content/Father_Brown/Wrong Shape.txt')"
      ],
      "metadata": {
        "id": "g3Grv0xRmdpQ"
      },
      "execution_count": 6,
      "outputs": []
    },
    {
      "cell_type": "code",
      "source": [
        "# Defining a function to represent whether a word is presnt in the given document\n",
        "def word_pres(word):\n",
        "  vector = []\n",
        "  for word_token in docs:\n",
        "    wrd = word.lower()\n",
        "    if wrd in word_token:\n",
        "      vector.append(1)\n",
        "    else:\n",
        "      vector.append(0)\n",
        "  return vector\n",
        "\n",
        "\n"
      ],
      "metadata": {
        "id": "Xbmu58dmtpsa"
      },
      "execution_count": 7,
      "outputs": []
    },
    {
      "cell_type": "code",
      "source": [
        "word_pres(\"elegantly\")"
      ],
      "metadata": {
        "colab": {
          "base_uri": "https://localhost:8080/"
        },
        "id": "iBGTZK5hwXMf",
        "outputId": "7bc010c4-2719-44e6-8e66-381b4d0bf9c7"
      },
      "execution_count": 8,
      "outputs": [
        {
          "output_type": "execute_result",
          "data": {
            "text/plain": [
              "[1, 0, 0, 0, 0, 0, 0, 0, 0, 0, 0]"
            ]
          },
          "metadata": {},
          "execution_count": 8
        }
      ]
    },
    {
      "cell_type": "code",
      "source": [
        "word_pres(\"learning\")"
      ],
      "metadata": {
        "colab": {
          "base_uri": "https://localhost:8080/"
        },
        "id": "WOnPwGn6wgHE",
        "outputId": "67b477c9-4ee9-4613-cef1-3944d6a3ab0b"
      },
      "execution_count": 9,
      "outputs": [
        {
          "output_type": "execute_result",
          "data": {
            "text/plain": [
              "[1, 0, 0, 0, 0, 0, 0, 0, 0, 0, 0]"
            ]
          },
          "metadata": {},
          "execution_count": 9
        }
      ]
    },
    {
      "cell_type": "code",
      "source": [
        "word_pres(\"proper\")"
      ],
      "metadata": {
        "colab": {
          "base_uri": "https://localhost:8080/"
        },
        "id": "3zXUnWjmwlDG",
        "outputId": "c8445d7c-1fe7-4b1d-93f4-5474cb4cbe40"
      },
      "execution_count": 10,
      "outputs": [
        {
          "output_type": "execute_result",
          "data": {
            "text/plain": [
              "[1, 0, 0, 0, 0, 1, 0, 0, 0, 0, 0]"
            ]
          },
          "metadata": {},
          "execution_count": 10
        }
      ]
    },
    {
      "cell_type": "code",
      "source": [
        "# Retrieving unique words from the document\n",
        "unique_words_list = []\n",
        "\n",
        "for un_wrd in docs:\n",
        "  unique_words_list += un_wrd\n",
        "unique_list = []\n",
        "for unq_wrd in unique_words_list:\n",
        "  if unq_wrd not in unique_list:\n",
        "    unique_list.append(unq_wrd)"
      ],
      "metadata": {
        "id": "_kWKClmbxD9k"
      },
      "execution_count": 11,
      "outputs": []
    },
    {
      "cell_type": "code",
      "source": [
        "# Creating Term Document Incidence for each unique word\n",
        "unique_dict = {}\n",
        "for w in unique_list:\n",
        "  unique_dict[w] = word_pres(w)\n"
      ],
      "metadata": {
        "id": "ktfszzzszmY0"
      },
      "execution_count": 12,
      "outputs": []
    },
    {
      "cell_type": "code",
      "source": [
        "df = pd.DataFrame(list(unique_dict.items()), columns = ['words', 'Term Document Incidence'])\n",
        "df"
      ],
      "metadata": {
        "colab": {
          "base_uri": "https://localhost:8080/",
          "height": 423
        },
        "id": "wmtQ-1J0uVRj",
        "outputId": "31abb7da-d954-47db-fd95-dc1f2fb480de"
      },
      "execution_count": 13,
      "outputs": [
        {
          "output_type": "execute_result",
          "data": {
            "text/plain": [
              "           words            Term Document Incidence\n",
              "0         silver  [1, 1, 1, 1, 0, 1, 1, 0, 1, 1, 0]\n",
              "1         ribbon  [1, 1, 1, 0, 0, 0, 0, 0, 0, 0, 0]\n",
              "2        morning  [1, 1, 1, 1, 0, 0, 1, 0, 1, 1, 0]\n",
              "3          green  [1, 0, 0, 1, 0, 1, 1, 1, 1, 1, 1]\n",
              "4     glittering  [1, 1, 1, 0, 1, 1, 0, 0, 1, 1, 1]\n",
              "...          ...                                ...\n",
              "9845    wizardry  [0, 0, 0, 0, 0, 0, 0, 0, 0, 0, 1]\n",
              "9846   hypnotism  [0, 0, 0, 0, 0, 0, 0, 0, 0, 0, 1]\n",
              "9847    document  [0, 0, 0, 0, 0, 0, 0, 0, 0, 0, 1]\n",
              "9848    wanted,”  [0, 0, 0, 0, 0, 0, 0, 0, 0, 0, 1]\n",
              "9849      night”  [0, 0, 0, 0, 0, 0, 0, 0, 0, 0, 1]\n",
              "\n",
              "[9850 rows x 2 columns]"
            ],
            "text/html": [
              "\n",
              "  <div id=\"df-3441996b-6186-460f-a891-79d27a655739\">\n",
              "    <div class=\"colab-df-container\">\n",
              "      <div>\n",
              "<style scoped>\n",
              "    .dataframe tbody tr th:only-of-type {\n",
              "        vertical-align: middle;\n",
              "    }\n",
              "\n",
              "    .dataframe tbody tr th {\n",
              "        vertical-align: top;\n",
              "    }\n",
              "\n",
              "    .dataframe thead th {\n",
              "        text-align: right;\n",
              "    }\n",
              "</style>\n",
              "<table border=\"1\" class=\"dataframe\">\n",
              "  <thead>\n",
              "    <tr style=\"text-align: right;\">\n",
              "      <th></th>\n",
              "      <th>words</th>\n",
              "      <th>Term Document Incidence</th>\n",
              "    </tr>\n",
              "  </thead>\n",
              "  <tbody>\n",
              "    <tr>\n",
              "      <th>0</th>\n",
              "      <td>silver</td>\n",
              "      <td>[1, 1, 1, 1, 0, 1, 1, 0, 1, 1, 0]</td>\n",
              "    </tr>\n",
              "    <tr>\n",
              "      <th>1</th>\n",
              "      <td>ribbon</td>\n",
              "      <td>[1, 1, 1, 0, 0, 0, 0, 0, 0, 0, 0]</td>\n",
              "    </tr>\n",
              "    <tr>\n",
              "      <th>2</th>\n",
              "      <td>morning</td>\n",
              "      <td>[1, 1, 1, 1, 0, 0, 1, 0, 1, 1, 0]</td>\n",
              "    </tr>\n",
              "    <tr>\n",
              "      <th>3</th>\n",
              "      <td>green</td>\n",
              "      <td>[1, 0, 0, 1, 0, 1, 1, 1, 1, 1, 1]</td>\n",
              "    </tr>\n",
              "    <tr>\n",
              "      <th>4</th>\n",
              "      <td>glittering</td>\n",
              "      <td>[1, 1, 1, 0, 1, 1, 0, 0, 1, 1, 1]</td>\n",
              "    </tr>\n",
              "    <tr>\n",
              "      <th>...</th>\n",
              "      <td>...</td>\n",
              "      <td>...</td>\n",
              "    </tr>\n",
              "    <tr>\n",
              "      <th>9845</th>\n",
              "      <td>wizardry</td>\n",
              "      <td>[0, 0, 0, 0, 0, 0, 0, 0, 0, 0, 1]</td>\n",
              "    </tr>\n",
              "    <tr>\n",
              "      <th>9846</th>\n",
              "      <td>hypnotism</td>\n",
              "      <td>[0, 0, 0, 0, 0, 0, 0, 0, 0, 0, 1]</td>\n",
              "    </tr>\n",
              "    <tr>\n",
              "      <th>9847</th>\n",
              "      <td>document</td>\n",
              "      <td>[0, 0, 0, 0, 0, 0, 0, 0, 0, 0, 1]</td>\n",
              "    </tr>\n",
              "    <tr>\n",
              "      <th>9848</th>\n",
              "      <td>wanted,”</td>\n",
              "      <td>[0, 0, 0, 0, 0, 0, 0, 0, 0, 0, 1]</td>\n",
              "    </tr>\n",
              "    <tr>\n",
              "      <th>9849</th>\n",
              "      <td>night”</td>\n",
              "      <td>[0, 0, 0, 0, 0, 0, 0, 0, 0, 0, 1]</td>\n",
              "    </tr>\n",
              "  </tbody>\n",
              "</table>\n",
              "<p>9850 rows × 2 columns</p>\n",
              "</div>\n",
              "      <button class=\"colab-df-convert\" onclick=\"convertToInteractive('df-3441996b-6186-460f-a891-79d27a655739')\"\n",
              "              title=\"Convert this dataframe to an interactive table.\"\n",
              "              style=\"display:none;\">\n",
              "        \n",
              "  <svg xmlns=\"http://www.w3.org/2000/svg\" height=\"24px\"viewBox=\"0 0 24 24\"\n",
              "       width=\"24px\">\n",
              "    <path d=\"M0 0h24v24H0V0z\" fill=\"none\"/>\n",
              "    <path d=\"M18.56 5.44l.94 2.06.94-2.06 2.06-.94-2.06-.94-.94-2.06-.94 2.06-2.06.94zm-11 1L8.5 8.5l.94-2.06 2.06-.94-2.06-.94L8.5 2.5l-.94 2.06-2.06.94zm10 10l.94 2.06.94-2.06 2.06-.94-2.06-.94-.94-2.06-.94 2.06-2.06.94z\"/><path d=\"M17.41 7.96l-1.37-1.37c-.4-.4-.92-.59-1.43-.59-.52 0-1.04.2-1.43.59L10.3 9.45l-7.72 7.72c-.78.78-.78 2.05 0 2.83L4 21.41c.39.39.9.59 1.41.59.51 0 1.02-.2 1.41-.59l7.78-7.78 2.81-2.81c.8-.78.8-2.07 0-2.86zM5.41 20L4 18.59l7.72-7.72 1.47 1.35L5.41 20z\"/>\n",
              "  </svg>\n",
              "      </button>\n",
              "      \n",
              "  <style>\n",
              "    .colab-df-container {\n",
              "      display:flex;\n",
              "      flex-wrap:wrap;\n",
              "      gap: 12px;\n",
              "    }\n",
              "\n",
              "    .colab-df-convert {\n",
              "      background-color: #E8F0FE;\n",
              "      border: none;\n",
              "      border-radius: 50%;\n",
              "      cursor: pointer;\n",
              "      display: none;\n",
              "      fill: #1967D2;\n",
              "      height: 32px;\n",
              "      padding: 0 0 0 0;\n",
              "      width: 32px;\n",
              "    }\n",
              "\n",
              "    .colab-df-convert:hover {\n",
              "      background-color: #E2EBFA;\n",
              "      box-shadow: 0px 1px 2px rgba(60, 64, 67, 0.3), 0px 1px 3px 1px rgba(60, 64, 67, 0.15);\n",
              "      fill: #174EA6;\n",
              "    }\n",
              "\n",
              "    [theme=dark] .colab-df-convert {\n",
              "      background-color: #3B4455;\n",
              "      fill: #D2E3FC;\n",
              "    }\n",
              "\n",
              "    [theme=dark] .colab-df-convert:hover {\n",
              "      background-color: #434B5C;\n",
              "      box-shadow: 0px 1px 3px 1px rgba(0, 0, 0, 0.15);\n",
              "      filter: drop-shadow(0px 1px 2px rgba(0, 0, 0, 0.3));\n",
              "      fill: #FFFFFF;\n",
              "    }\n",
              "  </style>\n",
              "\n",
              "      <script>\n",
              "        const buttonEl =\n",
              "          document.querySelector('#df-3441996b-6186-460f-a891-79d27a655739 button.colab-df-convert');\n",
              "        buttonEl.style.display =\n",
              "          google.colab.kernel.accessAllowed ? 'block' : 'none';\n",
              "\n",
              "        async function convertToInteractive(key) {\n",
              "          const element = document.querySelector('#df-3441996b-6186-460f-a891-79d27a655739');\n",
              "          const dataTable =\n",
              "            await google.colab.kernel.invokeFunction('convertToInteractive',\n",
              "                                                     [key], {});\n",
              "          if (!dataTable) return;\n",
              "\n",
              "          const docLinkHtml = 'Like what you see? Visit the ' +\n",
              "            '<a target=\"_blank\" href=https://colab.research.google.com/notebooks/data_table.ipynb>data table notebook</a>'\n",
              "            + ' to learn more about interactive tables.';\n",
              "          element.innerHTML = '';\n",
              "          dataTable['output_type'] = 'display_data';\n",
              "          await google.colab.output.renderOutput(dataTable, element);\n",
              "          const docLink = document.createElement('div');\n",
              "          docLink.innerHTML = docLinkHtml;\n",
              "          element.appendChild(docLink);\n",
              "        }\n",
              "      </script>\n",
              "    </div>\n",
              "  </div>\n",
              "  "
            ]
          },
          "metadata": {},
          "execution_count": 13
        }
      ]
    },
    {
      "cell_type": "code",
      "source": [
        "def process_query(query_text):\n",
        "  query = word_tokenize(query_text)\n",
        "  words_connect= []\n",
        "  words_different = []\n",
        "\n",
        "  for word in query:\n",
        "      if word.lower() != \"and\" and word.lower() != \"or\" and word.lower() != \"not\":\n",
        "        words_different.append(word.lower())\n",
        "      else:\n",
        "        words_connect.append(word.lower())\n",
        "\n",
        "  for word in words_connect:\n",
        "     words_list1 = unique_dict[words_different[0]]\n",
        "     words_list2 = unique_dict[words_different[1]]\n",
        "     if word == \"and\":\n",
        "        bitwise_op = [w1 & w2 for (w1,w2) in zip(words_list1, words_list2)]\n",
        "     elif word == \"or\":\n",
        "        bitwise_op = [w1 | w2 for (w1,w2) in zip(words_list1, words_list2)]\n",
        "     elif word == \"not\":\n",
        "        bitwise_op = [not w1 for w1 in words_list2]\n",
        "        bitwise_op = [int(b == True) for b in bitwise_op]\n",
        "        bitwise_op = [w1 & w2 for (w1, w2) in zip(words_list1, bitwise_op)]\n",
        "  return bitwise_op\n",
        "        \n"
      ],
      "metadata": {
        "id": "Ge52lucfYqux"
      },
      "execution_count": 14,
      "outputs": []
    },
    {
      "cell_type": "code",
      "source": [
        "query1 = input(\"Enter the query: \")\n",
        "process_query(query1)"
      ],
      "metadata": {
        "colab": {
          "base_uri": "https://localhost:8080/"
        },
        "id": "emFJFPxnp78M",
        "outputId": "4f7609d9-f95a-46e9-b1c5-0662fd2d3168"
      },
      "execution_count": 15,
      "outputs": [
        {
          "name": "stdout",
          "output_type": "stream",
          "text": [
            "Enter the query: elegantly or proper and learning\n"
          ]
        },
        {
          "output_type": "execute_result",
          "data": {
            "text/plain": [
              "[1, 0, 0, 0, 0, 0, 0, 0, 0, 0, 0]"
            ]
          },
          "metadata": {},
          "execution_count": 15
        }
      ]
    },
    {
      "cell_type": "markdown",
      "source": [
        "The above result indicates that the document 1 which corresponds to the text 'Blue Cross' has the either the words 'elegantly' or 'proper' and has the word 'learning'."
      ],
      "metadata": {
        "id": "nUm4vZkJsWL-"
      }
    },
    {
      "cell_type": "code",
      "source": [
        "query2 = input(\"Enter the query: \")\n",
        "process_query(query2) "
      ],
      "metadata": {
        "colab": {
          "base_uri": "https://localhost:8080/"
        },
        "id": "cYIoBXqDqJkT",
        "outputId": "93c4b8fb-298c-49ff-8ddd-51df63c31c9b"
      },
      "execution_count": 16,
      "outputs": [
        {
          "name": "stdout",
          "output_type": "stream",
          "text": [
            "Enter the query: proper and not learning\n"
          ]
        },
        {
          "output_type": "execute_result",
          "data": {
            "text/plain": [
              "[0, 0, 0, 0, 0, 1, 0, 0, 0, 0, 0]"
            ]
          },
          "metadata": {},
          "execution_count": 16
        }
      ]
    },
    {
      "cell_type": "markdown",
      "source": [
        "The above result indicates that the document 6 which corresponds to the text 'Flying Stars'  has the  the word 'proper', but not 'learning'."
      ],
      "metadata": {
        "id": "zmfjUZCes6KI"
      }
    }
  ]
}