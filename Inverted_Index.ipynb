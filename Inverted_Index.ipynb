{
  "nbformat": 4,
  "nbformat_minor": 0,
  "metadata": {
    "colab": {
      "provenance": []
    },
    "kernelspec": {
      "name": "python3",
      "display_name": "Python 3"
    },
    "language_info": {
      "name": "python"
    }
  },
  "cells": [
    {
      "cell_type": "code",
      "execution_count": 1,
      "metadata": {
        "id": "-eSB0h-uGnjF"
      },
      "outputs": [],
      "source": [
        "# Importing Libraries\n",
        "import pandas as pd\n",
        "import numpy as np\n",
        "import re\n",
        "import nltk\n",
        "from collections import defaultdict\n",
        "from nltk.corpus import stopwords\n",
        "from nltk.tokenize import word_tokenize\n"
      ]
    },
    {
      "cell_type": "code",
      "source": [
        "nltk.download('stopwords')"
      ],
      "metadata": {
        "colab": {
          "base_uri": "https://localhost:8080/"
        },
        "id": "yGworvmDoAvM",
        "outputId": "fe2abb28-753e-496d-c39d-4761416c5998"
      },
      "execution_count": 2,
      "outputs": [
        {
          "output_type": "stream",
          "name": "stderr",
          "text": [
            "[nltk_data] Downloading package stopwords to /root/nltk_data...\n",
            "[nltk_data]   Package stopwords is already up-to-date!\n"
          ]
        },
        {
          "output_type": "execute_result",
          "data": {
            "text/plain": [
              "True"
            ]
          },
          "metadata": {},
          "execution_count": 2
        }
      ]
    },
    {
      "cell_type": "code",
      "source": [
        "nltk.download('punkt')"
      ],
      "metadata": {
        "colab": {
          "base_uri": "https://localhost:8080/"
        },
        "id": "rAN3jMsroEz5",
        "outputId": "af7021e4-83ad-4eb1-ce0c-b4b7075cb856"
      },
      "execution_count": 3,
      "outputs": [
        {
          "output_type": "stream",
          "name": "stderr",
          "text": [
            "[nltk_data] Downloading package punkt to /root/nltk_data...\n",
            "[nltk_data]   Package punkt is already up-to-date!\n"
          ]
        },
        {
          "output_type": "execute_result",
          "data": {
            "text/plain": [
              "True"
            ]
          },
          "metadata": {},
          "execution_count": 3
        }
      ]
    },
    {
      "cell_type": "code",
      "source": [
        "stop_words = set(stopwords.words('english'))"
      ],
      "metadata": {
        "id": "DlzwICBZr47g"
      },
      "execution_count": 4,
      "outputs": []
    },
    {
      "cell_type": "code",
      "source": [
        "# Opening the text files\n",
        "file1 = open('/content/Father_Brown/Blue Cross.txt', encoding = 'utf-8')\n",
        "file_data1 = file1.read()\n",
        "file_data1 = file_data1.split(\" \")\n",
        "file_data1 = \" \".join([re.sub('[^A-Za-z0-9]',' ',i) for i in file_data1])\n",
        "\n",
        "file2 = open('/content/Father_Brown/Broken Sword.txt', encoding = 'utf-8')\n",
        "file_data2 = file2.read()\n",
        "file_data2 = file_data2.split(\" \")\n",
        "file_data2 = \" \".join([re.sub('[^A-Za-z0-9]',' ',i) for i in file_data2])\n",
        "\n",
        "file3 = open('/content/Father_Brown/Eye of Apollo.txt', encoding = 'utf-8')\n",
        "file_data3 = file3.read()\n",
        "file_data3 = file_data3.split(\" \")\n",
        "file_data3 = \" \".join([re.sub('[^A-Za-z0-9]',' ',i) for i in file_data3])\n",
        "\n",
        "file4 = open('/content/Father_Brown/Flying Stars.txt', encoding = 'utf-8')\n",
        "file_data4 = file4.read()\n",
        "file_data4 = file_data4.split(\" \")\n",
        "file_data4 = \" \".join([re.sub('[^A-Za-z0-9]',' ',i) for i in file_data4])\n",
        "\n",
        "file5 = open('/content/Father_Brown/Hammer of God.txt', encoding = 'utf-8')\n",
        "file_data5 = file5.read()\n",
        "file_data5 = file_data5.split(\" \")\n",
        "file_data5 = \" \".join([re.sub('[^A-Za-z0-9]',' ',i) for i in file_data5])\n",
        "\n",
        "file6 = open('/content/Father_Brown/Invisible Man.txt', encoding = 'utf-8')\n",
        "file_data6 = file6.read()\n",
        "file_data6 = file_data6.split(\" \")\n",
        "file_data6 = \" \".join([re.sub('[^A-Za-z0-9]',' ',i) for i in file_data6])\n",
        "\n",
        "file7 = open('/content/Father_Brown/Israel Crow.txt', encoding = 'utf-8')\n",
        "file_data7 = file7.read()\n",
        "file_data7 = file_data7.split(\" \")\n",
        "file_data7 = \" \".join([re.sub('[^A-Za-z0-9]',' ',i) for i in file_data7])\n",
        "\n"
      ],
      "metadata": {
        "id": "dOWIrw_Qj660"
      },
      "execution_count": 5,
      "outputs": []
    },
    {
      "cell_type": "code",
      "source": [
        "text_tokens = word_tokenize(file_data1 + \" \" + file_data2 + \" \" + file_data3 + \" \" + file_data4 + \" \" + file_data5 + \" \" + file_data6 + \" \" +\n",
        "                              file_data7)\n",
        "filtered_text = [w for w in text_tokens if not w.lower() in stop_words]\n",
        " \n",
        "filtered_text = \" \".join(filtered_text) "
      ],
      "metadata": {
        "id": "ZdCQOFsrucps"
      },
      "execution_count": 6,
      "outputs": []
    },
    {
      "cell_type": "code",
      "source": [
        "# Retrieving unique words from the document\n",
        "unique_words_list = [set(filtered_text.split(\" \"))]\n",
        "unique_words = set().union(*unique_words_list)"
      ],
      "metadata": {
        "id": "BmwJbSOptwp6"
      },
      "execution_count": 7,
      "outputs": []
    },
    {
      "cell_type": "code",
      "source": [
        "# Defining a dictionary which has the unique words as keys and the document number as values\n",
        "# The document number is from 1 to 11\n",
        "document = defaultdict(list)\n",
        "for word  in unique_words:\n",
        "  if word != \" \" or word != '':\n",
        "    if word in file_data1.split(\" \"):\n",
        "      document[word].append('1')\n",
        "    else:\n",
        "      pass\n",
        "    if word in file_data2.split(\" \"):\n",
        "      document[word].append('2')\n",
        "    else:\n",
        "      pass\n",
        "    if word in file_data3.split(\" \"):\n",
        "      document[word].append('3')\n",
        "    else:\n",
        "      pass\n",
        "    if word in file_data4.split(\" \"):\n",
        "      document[word].append('4')\n",
        "    else:\n",
        "      pass\n",
        "    if word in file_data5.split(\" \"):\n",
        "      document[word].append('5')\n",
        "    else:\n",
        "      pass\n",
        "    if word in file_data6.split(\" \"):\n",
        "      document[word].append('6')\n",
        "    else:\n",
        "      pass\n",
        "    if word in file_data7.split(\" \"):\n",
        "      document[word].append('7')\n",
        "\n",
        "  else:\n",
        "    continue\n"
      ],
      "metadata": {
        "id": "nBCXx4I8ybQM"
      },
      "execution_count": 8,
      "outputs": []
    },
    {
      "cell_type": "code",
      "source": [
        "\n",
        "doc_coll = list(document)\n"
      ],
      "metadata": {
        "id": "d2VSeTGzBUoZ"
      },
      "execution_count": 9,
      "outputs": []
    },
    {
      "cell_type": "code",
      "source": [
        "df = pd.DataFrame(list(document.items()), columns = ['words','Posting List'])\n",
        "df"
      ],
      "metadata": {
        "colab": {
          "base_uri": "https://localhost:8080/",
          "height": 423
        },
        "id": "xrwXiqPG0s4D",
        "outputId": "53d88bba-f42e-471a-c27b-15ffb9efe42d"
      },
      "execution_count": 10,
      "outputs": [
        {
          "output_type": "execute_result",
          "data": {
            "text/plain": [
              "           words           Posting List\n",
              "0       besieged                    [6]\n",
              "1        suppose  [1, 2, 3, 4, 5, 6, 7]\n",
              "2           week                 [4, 6]\n",
              "3         mildly                    [2]\n",
              "4      Archibald                    [7]\n",
              "...          ...                    ...\n",
              "5881     admiral                    [6]\n",
              "5882  discussion                    [1]\n",
              "5883        trot                    [1]\n",
              "5884     strikes                    [6]\n",
              "5885        room     [1, 3, 4, 5, 6, 7]\n",
              "\n",
              "[5886 rows x 2 columns]"
            ],
            "text/html": [
              "\n",
              "  <div id=\"df-409d5077-5483-4b72-a71b-c13f10b4af65\">\n",
              "    <div class=\"colab-df-container\">\n",
              "      <div>\n",
              "<style scoped>\n",
              "    .dataframe tbody tr th:only-of-type {\n",
              "        vertical-align: middle;\n",
              "    }\n",
              "\n",
              "    .dataframe tbody tr th {\n",
              "        vertical-align: top;\n",
              "    }\n",
              "\n",
              "    .dataframe thead th {\n",
              "        text-align: right;\n",
              "    }\n",
              "</style>\n",
              "<table border=\"1\" class=\"dataframe\">\n",
              "  <thead>\n",
              "    <tr style=\"text-align: right;\">\n",
              "      <th></th>\n",
              "      <th>words</th>\n",
              "      <th>Posting List</th>\n",
              "    </tr>\n",
              "  </thead>\n",
              "  <tbody>\n",
              "    <tr>\n",
              "      <th>0</th>\n",
              "      <td>besieged</td>\n",
              "      <td>[6]</td>\n",
              "    </tr>\n",
              "    <tr>\n",
              "      <th>1</th>\n",
              "      <td>suppose</td>\n",
              "      <td>[1, 2, 3, 4, 5, 6, 7]</td>\n",
              "    </tr>\n",
              "    <tr>\n",
              "      <th>2</th>\n",
              "      <td>week</td>\n",
              "      <td>[4, 6]</td>\n",
              "    </tr>\n",
              "    <tr>\n",
              "      <th>3</th>\n",
              "      <td>mildly</td>\n",
              "      <td>[2]</td>\n",
              "    </tr>\n",
              "    <tr>\n",
              "      <th>4</th>\n",
              "      <td>Archibald</td>\n",
              "      <td>[7]</td>\n",
              "    </tr>\n",
              "    <tr>\n",
              "      <th>...</th>\n",
              "      <td>...</td>\n",
              "      <td>...</td>\n",
              "    </tr>\n",
              "    <tr>\n",
              "      <th>5881</th>\n",
              "      <td>admiral</td>\n",
              "      <td>[6]</td>\n",
              "    </tr>\n",
              "    <tr>\n",
              "      <th>5882</th>\n",
              "      <td>discussion</td>\n",
              "      <td>[1]</td>\n",
              "    </tr>\n",
              "    <tr>\n",
              "      <th>5883</th>\n",
              "      <td>trot</td>\n",
              "      <td>[1]</td>\n",
              "    </tr>\n",
              "    <tr>\n",
              "      <th>5884</th>\n",
              "      <td>strikes</td>\n",
              "      <td>[6]</td>\n",
              "    </tr>\n",
              "    <tr>\n",
              "      <th>5885</th>\n",
              "      <td>room</td>\n",
              "      <td>[1, 3, 4, 5, 6, 7]</td>\n",
              "    </tr>\n",
              "  </tbody>\n",
              "</table>\n",
              "<p>5886 rows × 2 columns</p>\n",
              "</div>\n",
              "      <button class=\"colab-df-convert\" onclick=\"convertToInteractive('df-409d5077-5483-4b72-a71b-c13f10b4af65')\"\n",
              "              title=\"Convert this dataframe to an interactive table.\"\n",
              "              style=\"display:none;\">\n",
              "        \n",
              "  <svg xmlns=\"http://www.w3.org/2000/svg\" height=\"24px\"viewBox=\"0 0 24 24\"\n",
              "       width=\"24px\">\n",
              "    <path d=\"M0 0h24v24H0V0z\" fill=\"none\"/>\n",
              "    <path d=\"M18.56 5.44l.94 2.06.94-2.06 2.06-.94-2.06-.94-.94-2.06-.94 2.06-2.06.94zm-11 1L8.5 8.5l.94-2.06 2.06-.94-2.06-.94L8.5 2.5l-.94 2.06-2.06.94zm10 10l.94 2.06.94-2.06 2.06-.94-2.06-.94-.94-2.06-.94 2.06-2.06.94z\"/><path d=\"M17.41 7.96l-1.37-1.37c-.4-.4-.92-.59-1.43-.59-.52 0-1.04.2-1.43.59L10.3 9.45l-7.72 7.72c-.78.78-.78 2.05 0 2.83L4 21.41c.39.39.9.59 1.41.59.51 0 1.02-.2 1.41-.59l7.78-7.78 2.81-2.81c.8-.78.8-2.07 0-2.86zM5.41 20L4 18.59l7.72-7.72 1.47 1.35L5.41 20z\"/>\n",
              "  </svg>\n",
              "      </button>\n",
              "      \n",
              "  <style>\n",
              "    .colab-df-container {\n",
              "      display:flex;\n",
              "      flex-wrap:wrap;\n",
              "      gap: 12px;\n",
              "    }\n",
              "\n",
              "    .colab-df-convert {\n",
              "      background-color: #E8F0FE;\n",
              "      border: none;\n",
              "      border-radius: 50%;\n",
              "      cursor: pointer;\n",
              "      display: none;\n",
              "      fill: #1967D2;\n",
              "      height: 32px;\n",
              "      padding: 0 0 0 0;\n",
              "      width: 32px;\n",
              "    }\n",
              "\n",
              "    .colab-df-convert:hover {\n",
              "      background-color: #E2EBFA;\n",
              "      box-shadow: 0px 1px 2px rgba(60, 64, 67, 0.3), 0px 1px 3px 1px rgba(60, 64, 67, 0.15);\n",
              "      fill: #174EA6;\n",
              "    }\n",
              "\n",
              "    [theme=dark] .colab-df-convert {\n",
              "      background-color: #3B4455;\n",
              "      fill: #D2E3FC;\n",
              "    }\n",
              "\n",
              "    [theme=dark] .colab-df-convert:hover {\n",
              "      background-color: #434B5C;\n",
              "      box-shadow: 0px 1px 3px 1px rgba(0, 0, 0, 0.15);\n",
              "      filter: drop-shadow(0px 1px 2px rgba(0, 0, 0, 0.3));\n",
              "      fill: #FFFFFF;\n",
              "    }\n",
              "  </style>\n",
              "\n",
              "      <script>\n",
              "        const buttonEl =\n",
              "          document.querySelector('#df-409d5077-5483-4b72-a71b-c13f10b4af65 button.colab-df-convert');\n",
              "        buttonEl.style.display =\n",
              "          google.colab.kernel.accessAllowed ? 'block' : 'none';\n",
              "\n",
              "        async function convertToInteractive(key) {\n",
              "          const element = document.querySelector('#df-409d5077-5483-4b72-a71b-c13f10b4af65');\n",
              "          const dataTable =\n",
              "            await google.colab.kernel.invokeFunction('convertToInteractive',\n",
              "                                                     [key], {});\n",
              "          if (!dataTable) return;\n",
              "\n",
              "          const docLinkHtml = 'Like what you see? Visit the ' +\n",
              "            '<a target=\"_blank\" href=https://colab.research.google.com/notebooks/data_table.ipynb>data table notebook</a>'\n",
              "            + ' to learn more about interactive tables.';\n",
              "          element.innerHTML = '';\n",
              "          dataTable['output_type'] = 'display_data';\n",
              "          await google.colab.output.renderOutput(dataTable, element);\n",
              "          const docLink = document.createElement('div');\n",
              "          docLink.innerHTML = docLinkHtml;\n",
              "          element.appendChild(docLink);\n",
              "        }\n",
              "      </script>\n",
              "    </div>\n",
              "  </div>\n",
              "  "
            ]
          },
          "metadata": {},
          "execution_count": 10
        }
      ]
    },
    {
      "cell_type": "code",
      "source": [
        "map_dict = {'1': 'Blue Cross', '2': 'Broken Sword', '3': 'Eye of Apollo', '4': 'Flying Stars', \n",
        "            '5': 'Hammer of God', '6': 'Invisible Man', '7': 'Israel Crow'}"
      ],
      "metadata": {
        "id": "a_f-fX7d3ZYs"
      },
      "execution_count": 11,
      "outputs": []
    },
    {
      "cell_type": "code",
      "source": [
        "# Function for applying boolean operators to the inverted index\n",
        "def inverted_index(query):\n",
        "  for word_token in query.split():\n",
        "    if word_token == 'and':\n",
        "      query = query.replace(word_token, '&')\n",
        "    elif word_token == 'or':\n",
        "      query = query.replace(word_token, '|')\n",
        "    elif word_token == 'not':\n",
        "      query = query.replace(word_token, \"{'1','2','3','4','5','6','7'}-\")\n",
        "  for word_token in query.split():\n",
        "    if word_token.isalpha():\n",
        "      query = query.replace(word_token, repr(set(document[word_token])))\n",
        "  return query  \n",
        "\n",
        "\n",
        "\n"
      ],
      "metadata": {
        "id": "dVbTqWIm2-l8"
      },
      "execution_count": 12,
      "outputs": []
    },
    {
      "cell_type": "markdown",
      "source": [
        "**Executing Boolean Queries**"
      ],
      "metadata": {
        "id": "eTmqmm-J7uze"
      }
    },
    {
      "cell_type": "markdown",
      "source": [
        "*Query1*"
      ],
      "metadata": {
        "id": "r7n0PBgj9ONO"
      }
    },
    {
      "cell_type": "code",
      "source": [
        "query1 = 'cheerful and broke'\n",
        "exp1 = inverted_index(query1)\n",
        "exp1"
      ],
      "metadata": {
        "colab": {
          "base_uri": "https://localhost:8080/",
          "height": 36
        },
        "id": "OQwCLxr18uqq",
        "outputId": "a00810a5-e7ee-44a3-8800-1ed82c59d2e2"
      },
      "execution_count": 13,
      "outputs": [
        {
          "output_type": "execute_result",
          "data": {
            "text/plain": [
              "\"{'5', '1', '6'} & {'7', '1', '2', '3'}\""
            ],
            "application/vnd.google.colaboratory.intrinsic+json": {
              "type": "string"
            }
          },
          "metadata": {},
          "execution_count": 13
        }
      ]
    },
    {
      "cell_type": "markdown",
      "source": [
        "We can conclude that the word 'cheerful' is contained in documents 1, 5 and 6, and the word 'broke' is contained in documents 1, 2, 3 and 7."
      ],
      "metadata": {
        "id": "pG_bEp7dEWxK"
      }
    },
    {
      "cell_type": "code",
      "source": [
        "final_result1 = eval(exp1)\n",
        "final_result1"
      ],
      "metadata": {
        "colab": {
          "base_uri": "https://localhost:8080/"
        },
        "id": "_AlA9jARCGGD",
        "outputId": "07cadc20-2b75-4371-d4b5-bd15b7a68e93"
      },
      "execution_count": 14,
      "outputs": [
        {
          "output_type": "execute_result",
          "data": {
            "text/plain": [
              "{'1'}"
            ]
          },
          "metadata": {},
          "execution_count": 14
        }
      ]
    },
    {
      "cell_type": "code",
      "source": [
        "for i in final_result1:\n",
        "  print(map_dict[i])"
      ],
      "metadata": {
        "colab": {
          "base_uri": "https://localhost:8080/"
        },
        "id": "NMs1rv3L8fhq",
        "outputId": "409f0fb6-3b45-4f87-c77d-854f66d866fb"
      },
      "execution_count": 15,
      "outputs": [
        {
          "output_type": "stream",
          "name": "stdout",
          "text": [
            "Blue Cross\n"
          ]
        }
      ]
    },
    {
      "cell_type": "markdown",
      "source": [
        "From the result of Query 1, we can infer that the document 1 which corresponds to the text 'Blue Cross', is the only text that contains both the words 'cheerful' and 'broke'."
      ],
      "metadata": {
        "id": "XXwuKXPu9Maz"
      }
    },
    {
      "cell_type": "markdown",
      "source": [
        "*Query 2*"
      ],
      "metadata": {
        "id": "fmnaL15X9_2X"
      }
    },
    {
      "cell_type": "code",
      "source": [
        "query2 = 'cheerful and not broke'\n",
        "exp2 = inverted_index(query2)\n",
        "exp2"
      ],
      "metadata": {
        "colab": {
          "base_uri": "https://localhost:8080/",
          "height": 36
        },
        "id": "A0qkm1Ol-Cql",
        "outputId": "574e8d31-8f7a-4b71-dc47-90fb98a97659"
      },
      "execution_count": 16,
      "outputs": [
        {
          "output_type": "execute_result",
          "data": {
            "text/plain": [
              "\"{'5', '1', '6'} & {'1','2','3','4','5','6','7'}- {'7', '1', '2', '3'}\""
            ],
            "application/vnd.google.colaboratory.intrinsic+json": {
              "type": "string"
            }
          },
          "metadata": {},
          "execution_count": 16
        }
      ]
    },
    {
      "cell_type": "code",
      "source": [
        "final_result2 = eval(exp2)\n",
        "final_result2"
      ],
      "metadata": {
        "colab": {
          "base_uri": "https://localhost:8080/"
        },
        "id": "qNeXDDnCCP8M",
        "outputId": "aa99cad8-d817-449d-83a0-bba1d3f65bc2"
      },
      "execution_count": 17,
      "outputs": [
        {
          "output_type": "execute_result",
          "data": {
            "text/plain": [
              "{'5', '6'}"
            ]
          },
          "metadata": {},
          "execution_count": 17
        }
      ]
    },
    {
      "cell_type": "code",
      "source": [
        "for i in final_result2:\n",
        "  print(map_dict[i])"
      ],
      "metadata": {
        "colab": {
          "base_uri": "https://localhost:8080/"
        },
        "id": "SnEVmM6E-g8H",
        "outputId": "7eb8dfd7-258f-4953-8085-6c2ffc7a9e49"
      },
      "execution_count": 18,
      "outputs": [
        {
          "output_type": "stream",
          "name": "stdout",
          "text": [
            "Hammer of God\n",
            "Invisible Man\n"
          ]
        }
      ]
    },
    {
      "cell_type": "markdown",
      "source": [
        "From the result of Query 2, we can infer that the documents 5 and 6 which corresponds to the texts 'Hammer of God' and 'Invisible Man', contains the word cheerful but do not contain the word broke."
      ],
      "metadata": {
        "id": "hxkfanX6Fk35"
      }
    },
    {
      "cell_type": "markdown",
      "source": [
        "*Query 3*"
      ],
      "metadata": {
        "id": "P2voL0Z3Cy0h"
      }
    },
    {
      "cell_type": "code",
      "source": [
        "query3 = 'cheerful or broke'\n",
        "exp3 = inverted_index(query3)\n",
        "exp3"
      ],
      "metadata": {
        "colab": {
          "base_uri": "https://localhost:8080/",
          "height": 36
        },
        "id": "SF2jywiY94c6",
        "outputId": "36bb1913-1a0e-4fda-a8ac-aec22ad76169"
      },
      "execution_count": 19,
      "outputs": [
        {
          "output_type": "execute_result",
          "data": {
            "text/plain": [
              "\"{'5', '1', '6'} | {'7', '1', '2', '3'}\""
            ],
            "application/vnd.google.colaboratory.intrinsic+json": {
              "type": "string"
            }
          },
          "metadata": {},
          "execution_count": 19
        }
      ]
    },
    {
      "cell_type": "code",
      "source": [
        "final_result3 = eval(exp3)\n",
        "final_result3"
      ],
      "metadata": {
        "colab": {
          "base_uri": "https://localhost:8080/"
        },
        "id": "K3eCXtPCC_BR",
        "outputId": "3d79d245-bbe0-4e80-b320-2b1b8d559495"
      },
      "execution_count": 20,
      "outputs": [
        {
          "output_type": "execute_result",
          "data": {
            "text/plain": [
              "{'1', '2', '3', '5', '6', '7'}"
            ]
          },
          "metadata": {},
          "execution_count": 20
        }
      ]
    },
    {
      "cell_type": "code",
      "source": [
        "for i in final_result3:\n",
        "  print(map_dict[i])"
      ],
      "metadata": {
        "colab": {
          "base_uri": "https://localhost:8080/"
        },
        "id": "bUvojIgTDMNB",
        "outputId": "58dfb5bc-ac29-4bf1-bba4-d2b07f27375f"
      },
      "execution_count": 21,
      "outputs": [
        {
          "output_type": "stream",
          "name": "stdout",
          "text": [
            "Broken Sword\n",
            "Hammer of God\n",
            "Blue Cross\n",
            "Invisible Man\n",
            "Israel Crow\n",
            "Eye of Apollo\n"
          ]
        }
      ]
    },
    {
      "cell_type": "markdown",
      "source": [
        "From the result of Query 3, we can infer that the documents 1, 2, 3, 5, 6 and 7, which corresponds to the texts 'Blue Cross', 'Broken Sword', 'Eye of Apollo' 'Hammer of God', 'Invisible Man' and 'Israel Crow' respectively, contains either the word 'cheerful' or 'broke'."
      ],
      "metadata": {
        "id": "o0H_-GgXIs3F"
      }
    },
    {
      "cell_type": "markdown",
      "source": [
        "*Query 4*"
      ],
      "metadata": {
        "id": "bO-VSjvpDDES"
      }
    },
    {
      "cell_type": "code",
      "source": [
        "query4 = 'cheerful or not broke'\n",
        "exp4 = inverted_index(query4)\n",
        "exp4"
      ],
      "metadata": {
        "colab": {
          "base_uri": "https://localhost:8080/",
          "height": 36
        },
        "id": "LylTuraKDPst",
        "outputId": "73370890-f04c-49bd-e3a5-86e6aa3b256e"
      },
      "execution_count": 22,
      "outputs": [
        {
          "output_type": "execute_result",
          "data": {
            "text/plain": [
              "\"{'5', '1', '6'} | {'1','2','3','4','5','6','7'}- {'7', '1', '2', '3'}\""
            ],
            "application/vnd.google.colaboratory.intrinsic+json": {
              "type": "string"
            }
          },
          "metadata": {},
          "execution_count": 22
        }
      ]
    },
    {
      "cell_type": "code",
      "source": [
        "final_result4 = eval(exp4)\n",
        "final_result4"
      ],
      "metadata": {
        "colab": {
          "base_uri": "https://localhost:8080/"
        },
        "id": "HKlU33z7DPv0",
        "outputId": "b7b5325f-e377-45b8-cafb-0a8f0e243c8d"
      },
      "execution_count": 23,
      "outputs": [
        {
          "output_type": "execute_result",
          "data": {
            "text/plain": [
              "{'1', '4', '5', '6'}"
            ]
          },
          "metadata": {},
          "execution_count": 23
        }
      ]
    },
    {
      "cell_type": "code",
      "source": [
        "for word_token in final_result4:\n",
        "  print(map_dict[word_token])"
      ],
      "metadata": {
        "colab": {
          "base_uri": "https://localhost:8080/"
        },
        "id": "zFTq50b1DPzX",
        "outputId": "8b4978c2-d6ed-4b7a-f3b8-5302ed0b3a56"
      },
      "execution_count": 24,
      "outputs": [
        {
          "output_type": "stream",
          "name": "stdout",
          "text": [
            "Flying Stars\n",
            "Hammer of God\n",
            "Blue Cross\n",
            "Invisible Man\n"
          ]
        }
      ]
    },
    {
      "cell_type": "markdown",
      "source": [
        "From the result of Query 4, we can infer that the documents 1, 4, 5, and 6 which corresponds to the texts 'Blue Cross', 'Flying Stars', 'Hammer of God' and 'Invisible Man' respectively, either contains the word 'cheerful' or do not contain the word 'broke'."
      ],
      "metadata": {
        "id": "TxnnNZ5vMMan"
      }
    },
    {
      "cell_type": "markdown",
      "source": [
        "*Query 5*"
      ],
      "metadata": {
        "id": "DeAM9P9D0QEK"
      }
    },
    {
      "cell_type": "code",
      "source": [
        "query5 = 'cheerful and broke or adventures'\n",
        "exp5 = inverted_index(query5)\n",
        "exp5"
      ],
      "metadata": {
        "colab": {
          "base_uri": "https://localhost:8080/",
          "height": 36
        },
        "id": "zTybcRHA0PIl",
        "outputId": "ffa260f1-18fd-4469-b4f6-db931aca0419"
      },
      "execution_count": 25,
      "outputs": [
        {
          "output_type": "execute_result",
          "data": {
            "text/plain": [
              "\"{'5', '1', '6'} & {'7', '1', '2', '3'} | {'1'}\""
            ],
            "application/vnd.google.colaboratory.intrinsic+json": {
              "type": "string"
            }
          },
          "metadata": {},
          "execution_count": 25
        }
      ]
    },
    {
      "cell_type": "code",
      "source": [
        "final_result5 = eval(exp5)\n",
        "final_result5"
      ],
      "metadata": {
        "colab": {
          "base_uri": "https://localhost:8080/"
        },
        "id": "j0P3x5hJ0gSN",
        "outputId": "d32c3b8e-a798-4b26-dc25-f32b95a8da18"
      },
      "execution_count": 26,
      "outputs": [
        {
          "output_type": "execute_result",
          "data": {
            "text/plain": [
              "{'1'}"
            ]
          },
          "metadata": {},
          "execution_count": 26
        }
      ]
    },
    {
      "cell_type": "code",
      "source": [
        "for word_token in final_result5:\n",
        "  print(map_dict[word_token])"
      ],
      "metadata": {
        "colab": {
          "base_uri": "https://localhost:8080/"
        },
        "id": "t034wt_J0jOp",
        "outputId": "3610e5d8-c5b1-4d3a-ed44-39888c9024f0"
      },
      "execution_count": 27,
      "outputs": [
        {
          "output_type": "stream",
          "name": "stdout",
          "text": [
            "Blue Cross\n"
          ]
        }
      ]
    },
    {
      "cell_type": "markdown",
      "source": [
        "From the result of Query 5, we can infer that the documents 1, which corresponds to the texts 'Blue Cross', contains the words 'cheerful' and 'broke' or 'adventures'."
      ],
      "metadata": {
        "id": "uj-ndJIF04A7"
      }
    }
  ]
}